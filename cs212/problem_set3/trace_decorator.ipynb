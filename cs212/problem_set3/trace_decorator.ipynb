{
 "cells": [
  {
   "cell_type": "code",
   "execution_count": 7,
   "metadata": {
    "collapsed": false,
    "scrolled": true
   },
   "outputs": [
    {
     "name": "stdout",
     "output_type": "stream",
     "text": [
      "--> fib(6)\n",
      "   --> fib(5)\n",
      "      --> fib(4)\n",
      "         --> fib(3)\n",
      "            --> fib(2)\n",
      "               --> fib(1)\n",
      "               <-- fib(1) == 1\n",
      "               --> fib(0)\n",
      "               <-- fib(0) == 1\n",
      "            <-- fib(2) == 2\n",
      "            --> fib(1)\n",
      "            <-- fib(1) == 1\n",
      "         <-- fib(3) == 3\n",
      "         --> fib(2)\n",
      "            --> fib(1)\n",
      "            <-- fib(1) == 1\n",
      "            --> fib(0)\n",
      "            <-- fib(0) == 1\n",
      "         <-- fib(2) == 2\n",
      "      <-- fib(4) == 5\n",
      "      --> fib(3)\n",
      "         --> fib(2)\n",
      "            --> fib(1)\n",
      "            <-- fib(1) == 1\n",
      "            --> fib(0)\n",
      "            <-- fib(0) == 1\n",
      "         <-- fib(2) == 2\n",
      "         --> fib(1)\n",
      "         <-- fib(1) == 1\n",
      "      <-- fib(3) == 3\n",
      "   <-- fib(5) == 8\n",
      "   --> fib(4)\n",
      "      --> fib(3)\n",
      "         --> fib(2)\n",
      "            --> fib(1)\n",
      "            <-- fib(1) == 1\n",
      "            --> fib(0)\n",
      "            <-- fib(0) == 1\n",
      "         <-- fib(2) == 2\n",
      "         --> fib(1)\n",
      "         <-- fib(1) == 1\n",
      "      <-- fib(3) == 3\n",
      "      --> fib(2)\n",
      "         --> fib(1)\n",
      "         <-- fib(1) == 1\n",
      "         --> fib(0)\n",
      "         <-- fib(0) == 1\n",
      "      <-- fib(2) == 2\n",
      "   <-- fib(4) == 5\n",
      "<-- fib(6) == 13\n"
     ]
    },
    {
     "data": {
      "text/plain": [
       "13"
      ]
     },
     "execution_count": 7,
     "metadata": {},
     "output_type": "execute_result"
    }
   ],
   "source": [
    "# ---------------\n",
    "# User Instructions\n",
    "#\n",
    "# Modify the function, trace, so that when it is used\n",
    "# as a decorator it gives a trace as shown in the previous\n",
    "# video. You can test your function by applying the decorator\n",
    "# to the provided fibonnaci function.\n",
    "#\n",
    "# Note: Running this in the browser's IDE will not display\n",
    "# the indentations.\n",
    "\n",
    "from functools import update_wrapper\n",
    "\n",
    "\n",
    "def decorator(d):\n",
    "    \"Make function d a decorator: d wraps a function fn.\"\n",
    "    def _d(fn):\n",
    "        return update_wrapper(d(fn), fn)\n",
    "    update_wrapper(_d, d)\n",
    "    return _d\n",
    "\n",
    "@decorator\n",
    "def trace(f):\n",
    "    indent = '   '\n",
    "    def _f(*args):\n",
    "        signature = '%s(%s)' % (f.__name__, ', '.join(map(repr, args)))\n",
    "        print '%s--> %s' % (trace.level*indent, signature)\n",
    "        trace.level += 1\n",
    "        try:\n",
    "            result = f(*args)\n",
    "            print '%s<-- %s == %s' % ((trace.level-1)*indent, \n",
    "                                      signature, result)\n",
    "        finally:\n",
    "            trace.level-=1\n",
    "        return result\n",
    "    trace.level = 0\n",
    "    return _f\n",
    "\n",
    "@trace\n",
    "def fib(n):\n",
    "    if n == 0 or n == 1:\n",
    "        return 1\n",
    "    else:\n",
    "        return fib(n-1) + fib(n-2)\n",
    "\n",
    "fib(6) #running this in the browser's IDE  will not display the indentations!"
   ]
  },
  {
   "cell_type": "code",
   "execution_count": null,
   "metadata": {
    "collapsed": true
   },
   "outputs": [],
   "source": []
  }
 ],
 "metadata": {
  "kernelspec": {
   "display_name": "Python 2",
   "language": "python",
   "name": "python2"
  },
  "language_info": {
   "codemirror_mode": {
    "name": "ipython",
    "version": 2
   },
   "file_extension": ".py",
   "mimetype": "text/x-python",
   "name": "python",
   "nbconvert_exporter": "python",
   "pygments_lexer": "ipython2",
   "version": "2.7.5"
  }
 },
 "nbformat": 4,
 "nbformat_minor": 0
}
