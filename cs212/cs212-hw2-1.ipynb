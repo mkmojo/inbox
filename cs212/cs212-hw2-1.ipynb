{
 "cells": [
  {
   "cell_type": "code",
   "execution_count": 146,
   "metadata": {
    "collapsed": false
   },
   "outputs": [],
   "source": [
    "# CS 212, hw1-2: Jokers Wild\n",
    "#\n",
    "# -----------------\n",
    "# User Instructions\n",
    "#\n",
    "# Write a function best_wild_hand(hand) that takes as\n",
    "# input a 7-card hand and returns the best 5 card hand.\n",
    "# In this problem, it is possible for a hand to include\n",
    "# jokers. Jokers will be treated as 'wild cards' which\n",
    "# can take any rank or suit of the same color. The \n",
    "# black joker, '?B', can be used as any spade or club\n",
    "# and the red joker, '?R', can be used as any heart \n",
    "# or diamond.\n",
    "#\n",
    "# The itertools library may be helpful. Feel free to \n",
    "# define multiple functions if it helps you solve the\n",
    "# problem. \n",
    "#\n",
    "# -----------------\n",
    "# Grading Notes\n",
    "# \n",
    "# Muliple correct answers will be accepted in cases \n",
    "# where the best hand is ambiguous (for example, if \n",
    "# you have 4 kings and 3 queens, there are three best\n",
    "# hands: 4 kings along with any of the three queens).\n",
    "\n",
    "import itertools\n",
    "\n",
    "def best_wild_hand(hand):\n",
    "    \"Try all values for jokers in all 5-card selections.\"\n",
    "    hands = set(best_hand(h)\n",
    "                for h in itertools.product(*map(replacements, hand)))\n",
    "    return max(hands, key=hand_rank)\n",
    "\n",
    "def replacements(card):\n",
    "    allranks = '23456789TJQKA'\n",
    "    blackcards = [r+s for r in allranks for s in 'SC']\n",
    "    redcards = [r+s for r in allranks for s in 'HD']\n",
    "    if card == '?B': return blackcards\n",
    "    elif card == '?R': return redcards\n",
    "    else: return [card]\n",
    "\n",
    "def best_hand(hand):\n",
    "    \"From a 7-card hand, return the best 5 card hand.\"\n",
    "    return max(itertools.combinations(hand,5), key=hand_rank)\n",
    "\n",
    "    \n",
    "    \n",
    "def test_best_wild_hand():\n",
    "    assert (sorted(best_wild_hand(\"6C 7C 8C 9C TC 5C ?B\".split()))\n",
    "            == ['7C', '8C', '9C', 'JC', 'TC'])\n",
    "    assert (sorted(best_wild_hand(\"TD TC 5H 5C 7C ?R ?B\".split()))\n",
    "            == ['7C', 'TC', 'TD', 'TH', 'TS'])\n",
    "    assert (sorted(best_wild_hand(\"JD TC TH 7C 7D 7S 7H\".split()))\n",
    "            == ['7C', '7D', '7H', '7S', 'JD'])\n",
    "    return 'test_best_wild_hand passes'\n",
    "\n",
    "# ------------------\n",
    "# Provided Functions\n",
    "# \n",
    "# You may want to use some of the functions which\n",
    "# you have already defined in the unit to write \n",
    "# your best_hand function.\n",
    "\n",
    "def hand_rank(hand):\n",
    "    \"Return a value indicating the ranking of a hand.\"\n",
    "    ranks = card_ranks(hand) \n",
    "    if straight(ranks) and flush(hand):\n",
    "        return (8, max(ranks))\n",
    "    elif kind(4, ranks):\n",
    "        return (7, kind(4, ranks), kind(1, ranks))\n",
    "    elif kind(3, ranks) and kind(2, ranks):\n",
    "        return (6, kind(3, ranks), kind(2, ranks))\n",
    "    elif flush(hand):\n",
    "        return (5, ranks)\n",
    "    elif straight(ranks):\n",
    "        return (4, max(ranks))\n",
    "    elif kind(3, ranks):\n",
    "        return (3, kind(3, ranks), ranks)\n",
    "    elif two_pair(ranks):\n",
    "        return (2, two_pair(ranks), ranks)\n",
    "    elif kind(2, ranks):\n",
    "        return (1, kind(2, ranks), ranks)\n",
    "    else:\n",
    "        return (0, ranks)\n",
    "    \n",
    "def card_ranks(hand):\n",
    "    \"Return a list of the ranks, sorted with higher first.\"\n",
    "    ranks = ['--23456789TJQKA'.index(r) for r, s in hand]\n",
    "    ranks.sort(reverse = True)\n",
    "    return [5, 4, 3, 2, 1] if (ranks == [14, 5, 4, 3, 2]) else ranks\n",
    "\n",
    "def flush(hand):\n",
    "    \"Return True if all the cards have the same suit.\"\n",
    "    suits = [s for r,s in hand]\n",
    "    return len(set(suits)) == 1\n",
    "\n",
    "def straight(ranks):\n",
    "    \"\"\"Return True if the ordered \n",
    "    ranks form a 5-card straight.\"\"\"\n",
    "    return (max(ranks)-min(ranks) == 4) and len(set(ranks)) == 5\n",
    "\n",
    "def kind(n, ranks):\n",
    "    \"\"\"Return the first rank that this hand has \n",
    "    exactly n-of-a-kind of. Return None if there \n",
    "    is no n-of-a-kind in the hand.\"\"\"\n",
    "    for r in ranks:\n",
    "        if ranks.count(r) == n: return r\n",
    "    return None\n",
    "\n",
    "def two_pair(ranks):\n",
    "    \"\"\"If there are two pair here, return the two \n",
    "    ranks of the two pairs, else None.\"\"\"\n",
    "    pair = kind(2, ranks)\n",
    "    lowpair = kind(2, list(reversed(ranks)))\n",
    "    if pair and lowpair != pair:\n",
    "        return (pair, lowpair)\n",
    "    else:\n",
    "        return None \n"
   ]
  },
  {
   "cell_type": "code",
   "execution_count": 147,
   "metadata": {
    "collapsed": false
   },
   "outputs": [
    {
     "data": {
      "text/plain": [
       "'test_best_wild_hand passes'"
      ]
     },
     "execution_count": 147,
     "metadata": {},
     "output_type": "execute_result"
    }
   ],
   "source": [
    "test_best_wild_hand()"
   ]
  },
  {
   "cell_type": "code",
   "execution_count": 137,
   "metadata": {
    "collapsed": false
   },
   "outputs": [
    {
     "name": "stdout",
     "output_type": "stream",
     "text": [
      "7\n"
     ]
    }
   ],
   "source": [
    "t = [['6C'], ['7C'], ['8C'], ['9C'], ['TC'], ['5C'], ['2S', '2C', '3S', '3C', '4S', '4C', '5S', '5C', '6S', '6C', '7S', '7C', '8S', '8C', '9S', '9C', 'TS', 'TC', 'JS', 'JC', 'QS', 'QC', 'KS', 'KC', 'AS', 'AC']]\n",
    "print len(t)\n",
    "p = itertools.product(*t)"
   ]
  },
  {
   "cell_type": "code",
   "execution_count": 136,
   "metadata": {
    "collapsed": false,
    "scrolled": false
   },
   "outputs": [
    {
     "name": "stdout",
     "output_type": "stream",
     "text": [
      "('6C', '7C', '8C', '9C', 'TC', '5C', '2S')\n",
      "('6C', '7C', '8C', '9C', 'TC', '5C', '2C')\n",
      "('6C', '7C', '8C', '9C', 'TC', '5C', '3S')\n",
      "('6C', '7C', '8C', '9C', 'TC', '5C', '3C')\n",
      "('6C', '7C', '8C', '9C', 'TC', '5C', '4S')\n",
      "('6C', '7C', '8C', '9C', 'TC', '5C', '4C')\n",
      "('6C', '7C', '8C', '9C', 'TC', '5C', '5S')\n",
      "('6C', '7C', '8C', '9C', 'TC', '5C', '5C')\n",
      "('6C', '7C', '8C', '9C', 'TC', '5C', '6S')\n",
      "('6C', '7C', '8C', '9C', 'TC', '5C', '6C')\n",
      "('6C', '7C', '8C', '9C', 'TC', '5C', '7S')\n",
      "('6C', '7C', '8C', '9C', 'TC', '5C', '7C')\n",
      "('6C', '7C', '8C', '9C', 'TC', '5C', '8S')\n",
      "('6C', '7C', '8C', '9C', 'TC', '5C', '8C')\n",
      "('6C', '7C', '8C', '9C', 'TC', '5C', '9S')\n",
      "('6C', '7C', '8C', '9C', 'TC', '5C', '9C')\n",
      "('6C', '7C', '8C', '9C', 'TC', '5C', 'TS')\n",
      "('6C', '7C', '8C', '9C', 'TC', '5C', 'TC')\n",
      "('6C', '7C', '8C', '9C', 'TC', '5C', 'JS')\n",
      "('6C', '7C', '8C', '9C', 'TC', '5C', 'JC')\n",
      "('6C', '7C', '8C', '9C', 'TC', '5C', 'QS')\n",
      "('6C', '7C', '8C', '9C', 'TC', '5C', 'QC')\n",
      "('6C', '7C', '8C', '9C', 'TC', '5C', 'KS')\n",
      "('6C', '7C', '8C', '9C', 'TC', '5C', 'KC')\n",
      "('6C', '7C', '8C', '9C', 'TC', '5C', 'AS')\n",
      "('6C', '7C', '8C', '9C', 'TC', '5C', 'AC')\n"
     ]
    }
   ],
   "source": [
    "for i in p:\n",
    "    print i"
   ]
  },
  {
   "cell_type": "code",
   "execution_count": null,
   "metadata": {
    "collapsed": true
   },
   "outputs": [],
   "source": []
  }
 ],
 "metadata": {
  "kernelspec": {
   "display_name": "Python 2",
   "language": "python",
   "name": "python2"
  },
  "language_info": {
   "codemirror_mode": {
    "name": "ipython",
    "version": 2
   },
   "file_extension": ".py",
   "mimetype": "text/x-python",
   "name": "python",
   "nbconvert_exporter": "python",
   "pygments_lexer": "ipython2",
   "version": "2.7.5"
  }
 },
 "nbformat": 4,
 "nbformat_minor": 0
}
